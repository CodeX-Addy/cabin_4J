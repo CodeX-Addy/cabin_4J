{
  "nbformat": 4,
  "nbformat_minor": 0,
  "metadata": {
    "colab": {
      "provenance": [],
      "include_colab_link": true
    },
    "kernelspec": {
      "name": "python3",
      "display_name": "Python 3"
    },
    "language_info": {
      "name": "python"
    }
  },
  "cells": [
    {
      "cell_type": "markdown",
      "metadata": {
        "id": "view-in-github",
        "colab_type": "text"
      },
      "source": [
        "<a href=\"https://colab.research.google.com/github/CodeX-Addy/cabin_4J/blob/main/Copy_of_cabin_4j.ipynb\" target=\"_parent\"><img src=\"https://colab.research.google.com/assets/colab-badge.svg\" alt=\"Open In Colab\"/></a>"
      ]
    },
    {
      "cell_type": "code",
      "source": [
        "from nltk.corpus import opinion_lexicon\n",
        "positive_words = set(opinion_lexicon.positive())\n",
        "negative_words = set(opinion_lexicon.negative())"
      ],
      "metadata": {
        "id": "mgZUgtbpFaHj"
      },
      "execution_count": null,
      "outputs": []
    },
    {
      "cell_type": "code",
      "source": [
        "def get_sentiment(sentence):\n",
        "  words = sentence.split()\n",
        "  pos_count = 0\n",
        "  neg_count = 0\n",
        "  for word in words:\n",
        "        if word.lower() in positive_words:\n",
        "            pos_count += 1\n",
        "        elif word.lower() in negative_words:\n",
        "            neg_count += 1\n",
        "  \n",
        "  if pos_count > neg_count:\n",
        "        return \"positive\"\n",
        "  elif neg_count > pos_count:\n",
        "        return \"negative\"\n",
        "  else:\n",
        "        return \"neutral\"\n"
      ],
      "metadata": {
        "id": "y72wupbu6Wpr"
      },
      "execution_count": null,
      "outputs": []
    },
    {
      "cell_type": "code",
      "source": [
        "# sentence1 = \"I am happy today!\"\n",
        "# sentence2 = \"I am sad today!\"\n",
        "# sentence3 = \"How are you dear?\""
      ],
      "metadata": {
        "id": "djG-4Ey5GyGi"
      },
      "execution_count": null,
      "outputs": []
    },
    {
      "cell_type": "code",
      "source": [
        "\n",
        "text = input(\"Enter a sentence: \")\n",
        "print(get_sentiment(text)) # Output: positive\n"
      ],
      "metadata": {
        "colab": {
          "base_uri": "https://localhost:8080/"
        },
        "id": "J6t1-blD66Qh",
        "outputId": "1992b5e8-14f9-4c76-a546-0add406b382b"
      },
      "execution_count": null,
      "outputs": [
        {
          "output_type": "stream",
          "name": "stdout",
          "text": [
            "Enter a sentence: The movie I watched yesterday was really bad.\n",
            "neutral\n"
          ]
        }
      ]
    }
  ]
}