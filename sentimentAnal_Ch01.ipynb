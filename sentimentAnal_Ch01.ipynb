{
  "nbformat": 4,
  "nbformat_minor": 0,
  "metadata": {
    "colab": {
      "provenance": [],
      "include_colab_link": true
    },
    "kernelspec": {
      "name": "python3",
      "display_name": "Python 3"
    },
    "language_info": {
      "name": "python"
    }
  },
  "cells": [
    {
      "cell_type": "markdown",
      "metadata": {
        "id": "view-in-github",
        "colab_type": "text"
      },
      "source": [
        "<a href=\"https://colab.research.google.com/github/CodeX-Addy/cabin_4J/blob/main/sentimentAnal_Ch01.ipynb\" target=\"_parent\"><img src=\"https://colab.research.google.com/assets/colab-badge.svg\" alt=\"Open In Colab\"/></a>"
      ]
    },
    {
      "cell_type": "code",
      "source": [
        "import nltk # Natural Language Toolkit\n",
        "nltk.download('opinion_lexicon')\n",
        "from nltk.corpus import opinion_lexicon"
      ],
      "metadata": {
        "colab": {
          "base_uri": "https://localhost:8080/"
        },
        "id": "mbXcLJ4325vs",
        "outputId": "669a7d11-b24f-458b-dc70-1b281a337d29"
      },
      "execution_count": 1,
      "outputs": [
        {
          "output_type": "stream",
          "name": "stderr",
          "text": [
            "[nltk_data] Downloading package opinion_lexicon to /root/nltk_data...\n",
            "[nltk_data]   Unzipping corpora/opinion_lexicon.zip.\n"
          ]
        }
      ]
    },
    {
      "cell_type": "code",
      "source": [
        "positive_words = set(opinion_lexicon.positive()) \n",
        "negative_words = set(opinion_lexicon.negative())"
      ],
      "metadata": {
        "id": "i0295Ncg27r7"
      },
      "execution_count": 2,
      "outputs": []
    },
    {
      "cell_type": "code",
      "source": [
        "print(len(positive_words))\n",
        "len(negative_words)"
      ],
      "metadata": {
        "colab": {
          "base_uri": "https://localhost:8080/"
        },
        "id": "_YdzempC3Izr",
        "outputId": "3a8de6f7-fed0-42c1-a563-a5036492a3a5"
      },
      "execution_count": 3,
      "outputs": [
        {
          "output_type": "stream",
          "name": "stdout",
          "text": [
            "2006\n"
          ]
        },
        {
          "output_type": "execute_result",
          "data": {
            "text/plain": [
              "4783"
            ]
          },
          "metadata": {},
          "execution_count": 3
        }
      ]
    },
    {
      "cell_type": "markdown",
      "source": [
        "# Vader Lexicon"
      ],
      "metadata": {
        "id": "Yj_3NeMPNaJF"
      }
    },
    {
      "cell_type": "code",
      "source": [
        "# import nltk\n",
        "nltk.download('vader_lexicon')\n",
        "from nltk.sentiment.vader import SentimentIntensityAnalyzer\n",
        "sid = SentimentIntensityAnalyzer()\n",
        "result = sid.polarity_scores(\"What is the weather like today?\")"
      ],
      "metadata": {
        "colab": {
          "base_uri": "https://localhost:8080/"
        },
        "id": "dsnor8FU63Kr",
        "outputId": "3b9fa1ce-e440-4712-f86d-e7a8c5487383"
      },
      "execution_count": null,
      "outputs": [
        {
          "output_type": "stream",
          "name": "stderr",
          "text": [
            "[nltk_data] Downloading package vader_lexicon to /root/nltk_data...\n",
            "[nltk_data]   Package vader_lexicon is already up-to-date!\n"
          ]
        }
      ]
    },
    {
      "cell_type": "code",
      "source": [
        "result"
      ],
      "metadata": {
        "colab": {
          "base_uri": "https://localhost:8080/"
        },
        "id": "ny1iBv1b7nY7",
        "outputId": "f6aebd3f-7238-4621-c5b8-ce23c261c887"
      },
      "execution_count": null,
      "outputs": [
        {
          "output_type": "execute_result",
          "data": {
            "text/plain": [
              "{'neg': 0.0, 'neu': 0.667, 'pos': 0.333, 'compound': 0.3612}"
            ]
          },
          "metadata": {},
          "execution_count": 34
        }
      ]
    },
    {
      "cell_type": "code",
      "source": [
        "def get_max_key(d):\n",
        "    max_val = float('-inf')\n",
        "    max_key = None\n",
        "    for key, val in d.items():\n",
        "        if isinstance(val, (int, float)) and val > max_val:\n",
        "            max_val = val\n",
        "            max_key = key\n",
        "    return max_key"
      ],
      "metadata": {
        "id": "OEkDHCiKQOXm"
      },
      "execution_count": null,
      "outputs": []
    },
    {
      "cell_type": "code",
      "source": [
        "# type(result)\n",
        "print(get_max_key(result))"
      ],
      "metadata": {
        "colab": {
          "base_uri": "https://localhost:8080/"
        },
        "id": "XrQdjoAVOVlL",
        "outputId": "988da764-1507-4ac0-9893-f3acdaa1eeb3"
      },
      "execution_count": null,
      "outputs": [
        {
          "output_type": "stream",
          "name": "stdout",
          "text": [
            "neu\n"
          ]
        }
      ]
    },
    {
      "cell_type": "code",
      "source": [
        "neg = result['neg']\n",
        "pos = result['pos']\n",
        "neu = result['neu']\n"
      ],
      "metadata": {
        "id": "GutjsNJi7tuj"
      },
      "execution_count": null,
      "outputs": []
    },
    {
      "cell_type": "code",
      "source": [
        "ans = [neg,pos,neu]\n",
        "ans"
      ],
      "metadata": {
        "colab": {
          "base_uri": "https://localhost:8080/"
        },
        "id": "4CJye1qj8E5S",
        "outputId": "2798de97-a2e0-42cd-d566-1d89ea8c282a"
      },
      "execution_count": null,
      "outputs": [
        {
          "output_type": "execute_result",
          "data": {
            "text/plain": [
              "[0.0, 0.333, 0.667]"
            ]
          },
          "metadata": {},
          "execution_count": 17
        }
      ]
    }
  ]
}